{
 "cells": [
  {
   "cell_type": "code",
   "execution_count": 1,
   "id": "99df9f66-3f7e-4aa5-873e-1048e537c9d2",
   "metadata": {},
   "outputs": [
    {
     "name": "stdout",
     "output_type": "stream",
     "text": [
      "WARNING:tensorflow:From C:\\Users\\srkv3\\AppData\\Local\\Programs\\Python\\Python312\\Lib\\site-packages\\tf_keras\\src\\losses.py:2976: The name tf.losses.sparse_softmax_cross_entropy is deprecated. Please use tf.compat.v1.losses.sparse_softmax_cross_entropy instead.\n",
      "\n",
      "WARNING:tensorflow:From C:\\Users\\srkv3\\AppData\\Local\\Programs\\Python\\Python312\\Lib\\site-packages\\tensorflow_probability\\python\\internal\\backend\\numpy\\_utils.py:48: The name tf.logging.TaskLevelStatusMessage is deprecated. Please use tf.compat.v1.logging.TaskLevelStatusMessage instead.\n",
      "\n",
      "WARNING:tensorflow:From C:\\Users\\srkv3\\AppData\\Local\\Programs\\Python\\Python312\\Lib\\site-packages\\tensorflow_probability\\python\\internal\\backend\\numpy\\_utils.py:48: The name tf.control_flow_v2_enabled is deprecated. Please use tf.compat.v1.control_flow_v2_enabled instead.\n",
      "\n"
     ]
    }
   ],
   "source": [
    "import numpy as np\n",
    "import time as time\n",
    "import tensorflow as tf\n",
    "import tensorflow_probability as tfp\n",
    "\n",
    "tfd = tfp.distributions\n",
    "\n",
    "tf.device('/GPU:0')\n",
    "\n",
    "tolerance = 2e5\n",
    "num_samples = 500000\n",
    "population = 60.36e6\n",
    "\n",
    "# data for Italy, source: https://github.com/CSSEGISandData/COVID-19\n",
    "\n",
    "country_data_train = tf.constant([[   155,    229,    322,    453,    655,    888,   1128,   1694,   2036,\n",
    "           2502,   3089,   3858,   4636,   5883,   7375,   9172,  10149,  12462,\n",
    "          15113,  17660,  21157,  24747,  27980,  31506,  35713,  41035,  47021,\n",
    "          53578,  59138,  63927,  69176,  74386,  80589,  86498,  92472,  97689,\n",
    "         101739, 105792, 110574, 115242, 119827, 124632, 128948, 132547, 135586,\n",
    "         139422, 143626, 147577, 152271],\n",
    "        [     2,      1,      1,      3,     45,     46,     46,     83,    149,\n",
    "            160,    276,    414,    523,    589,    622,    724,    724,   1045,\n",
    "           1045,   1439,   1966,   2335,   2749,   2941,   4025,   4440,   4440,\n",
    "           6072,   7024,   7024,   8326,   9362,  10361,  10950,  12384,  13030,\n",
    "          14620,  15729,  16847,  18278,  19758,  20996,  21815,  22837,  24392,\n",
    "          26491,  28470,  30455,  32534],\n",
    "        [     3,      7,     10,     12,     17,     21,     29,     34,     52,\n",
    "             79,    107,    148,    197,    233,    366,    463,    631,    827,\n",
    "           1016,   1266,   1441,   1809,   2158,   2503,   2978,   3405,   4032,\n",
    "           4825,   5476,   6077,   6820,   7503,   8215,   9134,  10023,  10779,\n",
    "          11591,  12428,  13155,  13915,  14681,  15362,  15887,  16523,  17127,\n",
    "          17669,  18279,  18849,  19468]], dtype=tf.float32)\n"
   ]
  },
  {
   "cell_type": "code",
   "execution_count": 2,
   "id": "d3d1ef0a-79fa-45e7-9e78-7ae51a592e46",
   "metadata": {},
   "outputs": [],
   "source": [
    "# Main Parallel ABC Kernel\n",
    "\n",
    "@tf.function(experimental_compile=True)\n",
    "def build_graph():\n",
    "    num_days = tf.cast(country_data_train.shape[1], tf.int32)\n",
    "    P = tf.ones(num_samples) * population\n",
    "    A_0 = tf.ones(num_samples) * country_data_train[0, 0]\n",
    "    R_0 = tf.ones(num_samples) * country_data_train[1, 0]\n",
    "    D_0 = tf.ones(num_samples) * country_data_train[2, 0]\n",
    "    param_vector = tf.transpose(tfd.Uniform(\n",
    "        tf.constant([0.0, 0.0, 0.0, 0.0, 0.0, 0.0, 0.0, 0.0]),\n",
    "        tf.constant([1.0, 100.0, 2.0, 1.0, 1.0, 1.0, 1.0, 2.0]),\n",
    "        ).sample(num_samples))\n",
    "\n",
    "    summary = tf.zeros([num_days, 3, num_samples])\n",
    "\n",
    "    nu = tf.constant([[-1,  1,  0, 0, 0, 0],\n",
    "                      [ 0, -1,  1, 0, 0, 0],\n",
    "                      [ 0,  0, -1, 1, 0, 0],\n",
    "                      [ 0,  0, -1, 0, 1, 0],\n",
    "                      [ 0, -1,  0, 0, 0, 1]], dtype=tf.float32)\n",
    "    \n",
    "    S_store = P - param_vector[7] * A_0 - (A_0 + R_0 + D_0)\n",
    "    I_store = param_vector[7] * A_0\n",
    "    A_store = A_0\n",
    "    R_store = R_0\n",
    "    D_store = D_0\n",
    "    Ru_store = tf.zeros(num_samples)\n",
    "\n",
    "    summary = tf.tensor_scatter_nd_add(summary, [[0,0], [0,1], [0,2]],tf.stack([A_store, R_store, D_store]))\n",
    "\n",
    "    def body(i, s, S, I, A, R, D, Ru):\n",
    "        U = A + R + D\n",
    "        alpha_t = param_vector[0] + (\n",
    "                    param_vector[1] / (tf.constant(1.0) + tf.pow(U, param_vector[2])))\n",
    "        h_1 = (S * I / P) * alpha_t\n",
    "        h_2 = I * param_vector[4]\n",
    "        h_3 = A * param_vector[3]\n",
    "        h_4 = A * param_vector[5]\n",
    "        h_5 = I * param_vector[6] * param_vector[3]\n",
    "        h = tf.stack([h_1, h_2, h_3, h_4, h_5])\n",
    "        Y_store = tf.clip_by_value(tf.math.floor(tfd.Normal(loc=h,scale=tf.sqrt(h)).sample()), 0.0, P)\n",
    "\n",
    "        m = tf.matmul(tf.transpose(nu), Y_store)\n",
    "        \n",
    "        S = tf.clip_by_value(S + m[0,:], 0.0, P)\n",
    "        I = tf.clip_by_value(I + m[1,:], 0.0, P)\n",
    "        A = tf.clip_by_value(A + m[2,:], 0.0, P)\n",
    "        R = tf.clip_by_value(R + m[3,:], 0.0, P)\n",
    "        D = tf.clip_by_value(D + m[4,:], 0.0, P)\n",
    "        Ru = tf.clip_by_value(Ru + m[5,:], 0.0, P)\n",
    "\n",
    "        s = tf.tensor_scatter_nd_add(s, [[i,0], [i,1], [i,2]], tf.stack([A, R, D]))\n",
    "\n",
    "        return i+1, s, S, I, A, R, D, Ru\n",
    "\n",
    "    init_idx = tf.zeros([], dtype=tf.int32) + 1\n",
    "    i, summary, *_ = tf.while_loop(lambda i, *_: i < num_days, body, [init_idx, summary, S_store, I_store, A_store, R_store, D_store, Ru_store])\n",
    "\n",
    "    t_summary = tf.transpose(summary, perm=[2,1,0])\n",
    "    distances = tf.norm(tf.broadcast_to(country_data_train, tf.constant([num_samples,country_data_train.shape[0],country_data_train.shape[1]], dtype=tf.int32)) - t_summary, axis=2)\n",
    "    reduced_distances = tf.reduce_sum(distances, axis=1)\n",
    "    acceptance_vector = reduced_distances <= tolerance\n",
    "    num_accepted_samples = tf.reduce_sum(tf.cast(acceptance_vector, dtype=tf.float32), name = \"num_accepted_samples\")\n",
    "    min_distances, min_dist_indices = tf.math.top_k(-reduced_distances, 5)\n",
    "    params_to_return = tf.gather(param_vector, min_dist_indices, axis=1)\n",
    "\n",
    "    \n",
    "    # Print statements for debugging\n",
    "    print(\"Graph built.\")\n",
    "    print(\"Number of accepted samples: \", num_accepted_samples)\n",
    "    print(\"Min distances: \", min_distances)\n",
    "    print(\"Params to return: \", params_to_return)\n",
    "    \n",
    "    return num_accepted_samples, params_to_return, -min_distances\n"
   ]
  },
  {
   "cell_type": "code",
   "execution_count": 3,
   "id": "54227f99-c3c0-4586-9fb3-3b3bfc3ddd1d",
   "metadata": {},
   "outputs": [
    {
     "name": "stdout",
     "output_type": "stream",
     "text": [
      "Warming up XLA compilation...\n",
      "Graph built.\n",
      "Number of accepted samples:  Tensor(\"num_accepted_samples:0\", shape=(), dtype=float32)\n",
      "Min distances:  Tensor(\"TopKV2:0\", shape=(5,), dtype=float32)\n",
      "Params to return:  Tensor(\"GatherV2:0\", shape=(8, 5), dtype=float32)\n",
      "Warm-up complete.\n"
     ]
    }
   ],
   "source": [
    "# Warm-up xla compilation\n",
    "print(\"Warming up XLA compilation...\")\n",
    "build_graph()\n",
    "print(\"Warm-up complete.\")\n"
   ]
  },
  {
   "cell_type": "code",
   "execution_count": 10,
   "id": "065fa182-037f-4249-9c5b-74a1ad21923e",
   "metadata": {},
   "outputs": [
    {
     "name": "stdout",
     "output_type": "stream",
     "text": [
      "Running...\n"
     ]
    }
   ],
   "source": [
    "# ABC inference\n",
    "print(\"Running...\")\n",
    "max_runs = 30 #make it 30,000\n",
    "samples_target = 100\n",
    "samples_collected = 0\n",
    "num_runs = 0\n",
    "start_time = time.time()\n",
    "returned_samples = []\n",
    "min_distances = []\n",
    "tf.profiler.experimental.server.start(6009) # performance profiling; comment-out to run without profiling\n"
   ]
  },
  {
   "cell_type": "code",
   "execution_count": 7,
   "id": "96d97604-55f0-4b22-84ce-2f1b552d6bdf",
   "metadata": {},
   "outputs": [
    {
     "name": "stdout",
     "output_type": "stream",
     "text": [
      "Step 1/30\n",
      "Step 1: Accepted samples 2.0, Total collected 2.0\n",
      "Step 2/30\n",
      "Step 2: Accepted samples 0.0, Total collected 2.0\n",
      "Step 3/30\n",
      "Step 3: Accepted samples 2.0, Total collected 4.0\n",
      "Step 4/30\n",
      "Step 4: Accepted samples 2.0, Total collected 6.0\n",
      "Step 5/30\n",
      "Step 5: Accepted samples 0.0, Total collected 6.0\n",
      "Step 6/30\n",
      "Step 6: Accepted samples 1.0, Total collected 7.0\n",
      "Step 7/30\n",
      "Step 7: Accepted samples 0.0, Total collected 7.0\n",
      "Step 8/30\n",
      "Step 8: Accepted samples 0.0, Total collected 7.0\n",
      "Step 9/30\n",
      "Step 9: Accepted samples 0.0, Total collected 7.0\n",
      "Step 10/30\n",
      "Step 10: Accepted samples 2.0, Total collected 9.0\n",
      "Step 11/30\n",
      "Step 11: Accepted samples 2.0, Total collected 11.0\n",
      "Step 12/30\n",
      "Step 12: Accepted samples 0.0, Total collected 11.0\n",
      "Step 13/30\n",
      "Step 13: Accepted samples 1.0, Total collected 12.0\n",
      "Step 14/30\n",
      "Step 14: Accepted samples 0.0, Total collected 12.0\n",
      "Step 15/30\n",
      "Step 15: Accepted samples 0.0, Total collected 12.0\n",
      "Step 16/30\n",
      "Step 16: Accepted samples 0.0, Total collected 12.0\n",
      "Step 17/30\n",
      "Step 17: Accepted samples 1.0, Total collected 13.0\n",
      "Step 18/30\n",
      "Step 18: Accepted samples 2.0, Total collected 15.0\n",
      "Step 19/30\n",
      "Step 19: Accepted samples 0.0, Total collected 15.0\n",
      "Step 20/30\n",
      "Step 20: Accepted samples 0.0, Total collected 15.0\n",
      "Step 21/30\n",
      "Step 21: Accepted samples 0.0, Total collected 15.0\n",
      "Step 22/30\n",
      "Step 22: Accepted samples 0.0, Total collected 15.0\n",
      "Step 23/30\n",
      "Step 23: Accepted samples 0.0, Total collected 15.0\n",
      "Step 24/30\n",
      "Step 24: Accepted samples 1.0, Total collected 16.0\n",
      "Step 25/30\n",
      "Step 25: Accepted samples 1.0, Total collected 17.0\n",
      "Step 26/30\n",
      "Step 26: Accepted samples 0.0, Total collected 17.0\n",
      "Step 27/30\n",
      "Step 27: Accepted samples 0.0, Total collected 17.0\n",
      "Step 28/30\n",
      "Step 28: Accepted samples 1.0, Total collected 18.0\n",
      "Step 29/30\n",
      "Step 29: Accepted samples 1.0, Total collected 19.0\n",
      "Step 30/30\n",
      "Step 30: Accepted samples 0.0, Total collected 19.0\n"
     ]
    }
   ],
   "source": [
    "# Single inference step; repeat until enough samples collected\n",
    "for step in range(max_runs):\n",
    "    print(f\"Step {step + 1}/{max_runs}\")\n",
    "    with tf.profiler.experimental.Trace('train', step_num=step, _r=1): # performance profiling; comment-out and un-indent block below to run without profiling \n",
    "        num_accepted_samples, returned_run_params, min_distance = build_graph()\n",
    "        samples_collected += num_accepted_samples\n",
    "        if num_accepted_samples:\n",
    "            returned_samples.append(returned_run_params)\n",
    "            min_distances.append(min_distance)\n",
    "        num_runs += 1\n",
    "        print(f\"Step {step + 1}: Accepted samples {num_accepted_samples.numpy()}, Total collected {samples_collected.numpy()}\")\n",
    "        if samples_collected >= samples_target:\n",
    "            print(f\"Target of {samples_target} samples collected.\")\n",
    "            break"
   ]
  },
  {
   "cell_type": "code",
   "execution_count": 8,
   "id": "7d19c159-ac13-4b38-855a-85f89539af08",
   "metadata": {},
   "outputs": [],
   "source": [
    "# Post processing\n",
    "returned_samples = tf.stack(returned_samples)\n",
    "min_distances = tf.stack(min_distances)\n",
    "returned_samples = (tf.transpose(returned_samples, [2,0,1]))\n",
    "flattened_samples = tf.reshape(returned_samples, [-1, 8])\n",
    "selected_samples = tf.boolean_mask(flattened_samples, tf.reshape(min_distances, [-1]) <= 1e5)\n",
    "\n",
    "end_time = time.time()\n"
   ]
  },
  {
   "cell_type": "code",
   "execution_count": 9,
   "id": "caeb027e-41de-4d6e-a44b-60c1d614dd79",
   "metadata": {},
   "outputs": [
    {
     "name": "stdout",
     "output_type": "stream",
     "text": [
      "Completed in 70.225 seconds\n",
      "\n",
      "Samples collected: 19.0\n",
      "Number of runs: 30\n",
      "Time per run: 2340.842 milliseconds\n",
      "\n"
     ]
    }
   ],
   "source": [
    "# Print inference summary\n",
    "print(\"Completed in {0:.3f} seconds\\n\".format(end_time - start_time))\n",
    "print(f\"Samples collected: {samples_collected.numpy()}\")\n",
    "print(f\"Number of runs: {num_runs}\")\n",
    "print(\"Time per run: {0:.3f} milliseconds\\n\".format(1e3*(end_time - start_time)/num_runs))\n"
   ]
  },
  {
   "cell_type": "code",
   "execution_count": null,
   "id": "dd14950c-5934-4768-a913-df6fd3c5fcf9",
   "metadata": {},
   "outputs": [],
   "source": []
  }
 ],
 "metadata": {
  "kernelspec": {
   "display_name": "Python 3 (ipykernel)",
   "language": "python",
   "name": "python3"
  },
  "language_info": {
   "codemirror_mode": {
    "name": "ipython",
    "version": 3
   },
   "file_extension": ".py",
   "mimetype": "text/x-python",
   "name": "python",
   "nbconvert_exporter": "python",
   "pygments_lexer": "ipython3",
   "version": "3.12.3"
  }
 },
 "nbformat": 4,
 "nbformat_minor": 5
}
